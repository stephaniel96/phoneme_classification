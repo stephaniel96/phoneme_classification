{
 "cells": [
  {
   "cell_type": "code",
   "execution_count": 10,
   "metadata": {},
   "outputs": [
    {
     "name": "stdout",
     "output_type": "stream",
     "text": [
      "/Users/stephanieliu/miniconda3/bin/python\n"
     ]
    }
   ],
   "source": [
    "from __future__ import print_function\n",
    "import sys\n",
    "print (sys.executable)"
   ]
  },
  {
   "cell_type": "code",
   "execution_count": 2,
   "metadata": {},
   "outputs": [
    {
     "name": "stderr",
     "output_type": "stream",
     "text": [
      "/Users/stephanieliu/miniconda3/lib/python3.6/importlib/_bootstrap.py:219: RuntimeWarning: compiletime version 3.5 of module 'tensorflow.python.framework.fast_tensor_util' does not match runtime version 3.6\n",
      "  return f(*args, **kwds)\n"
     ]
    }
   ],
   "source": [
    "import tensorflow as tf\n",
    "import matplotlib.pyplot as plt\n",
    "import numpy as np\n",
    "import scipy.io as sio\n",
    "\n",
    "import train_batch as train"
   ]
  },
  {
   "cell_type": "markdown",
   "metadata": {},
   "source": [
    "#### Define the blocks\n",
    "Always remember the mental model:\n",
    "input => representation learning => loss => optimizer"
   ]
  },
  {
   "cell_type": "markdown",
   "metadata": {},
   "source": [
    "Step 1: define input (and output, because during the training we need the ground truth as reference)"
   ]
  },
  {
   "cell_type": "code",
   "execution_count": 4,
   "metadata": {
    "collapsed": true
   },
   "outputs": [],
   "source": [
    "tf.reset_default_graph()\n",
    "# [1] Input\n",
    "x = tf.placeholder(tf.float32, [None, train.INTERVAL_SIZE])\n",
    "# y_ holds the true output, \n",
    "# we use this placeholder to pass the true recognition result to teach the network\n",
    "y_ = tf.placeholder(tf.int32, [None])"
   ]
  },
  {
   "cell_type": "markdown",
   "metadata": {},
   "source": [
    "Step 2: Representation learning (the network that reveals the information contained in the image). Here we use 1 layer of fully connected network"
   ]
  },
  {
   "cell_type": "code",
   "execution_count": 5,
   "metadata": {
    "collapsed": true
   },
   "outputs": [],
   "source": [
    "# [2] network, first layer\n",
    "W = tf.Variable(tf.zeros([1024, 76])) # can use 76 for simplicity\n",
    "b = tf.Variable(tf.zeros([76]))\n",
    "O = tf.matmul(x, W) + b\n",
    "\n",
    "# Second layer\n",
    "W_2 = tf.Variable(tf.zeros([76, 76])) # 76 x 76 \n",
    "\n",
    "# while the layer is not the last layer, we can have any number, bottle neck layer < 76, extract information > 76"
   ]
  },
  {
   "cell_type": "markdown",
   "metadata": {},
   "source": [
    "Step 3: loss function, to define what's a good prediction "
   ]
  },
  {
   "cell_type": "code",
   "execution_count": 6,
   "metadata": {
    "collapsed": true
   },
   "outputs": [],
   "source": [
    "# [3] loss, this loss function below outputs a scalar to show who close the network's guess\n",
    "# O can represent the true recognition result y_. \n",
    "# Here O[j] shows a rating of how likely x is digit j, we will show that later\n",
    "loss_all = tf.nn.sparse_softmax_cross_entropy_with_logits(logits=O, labels=y_)\n",
    "loss = tf.reduce_mean(loss_all)"
   ]
  },
  {
   "cell_type": "markdown",
   "metadata": {},
   "source": [
    "Step 4: Optimizer, strategy for training"
   ]
  },
  {
   "cell_type": "code",
   "execution_count": 7,
   "metadata": {
    "collapsed": true
   },
   "outputs": [],
   "source": [
    "# [4] Optimizer\n",
    "train_step = tf.train.GradientDescentOptimizer(0.5).minimize(loss)\n",
    "# [optional, compute accuracy so that we can know how well we are doing while training]\n",
    "prediction = tf.argmax(tf.nn.softmax(O), 1, output_type=tf.int32)\n",
    "accuracy = tf.reduce_mean(tf.cast(tf.equal(prediction, y_), tf.float32))"
   ]
  },
  {
   "cell_type": "markdown",
   "metadata": {},
   "source": [
    "#### Training\n",
    "Call \"train_step\" a number of time; you can call this block multiple times until it reaches a good accuracy"
   ]
  },
  {
   "cell_type": "code",
   "execution_count": 9,
   "metadata": {
    "scrolled": false
   },
   "outputs": [
    {
     "name": "stdout",
     "output_type": "stream",
     "text": [
      "accuracy= 0.330078 loss= 3.24905\n",
      "accuracy= 0.294922 loss= 3.25625\n",
      "accuracy= 0.318359 loss= 3.1859\n",
      "accuracy= 0.361328 loss= 3.03669\n",
      "accuracy= 0.316406 loss= 3.13469\n",
      "accuracy= 0.365234 loss= 2.96405\n",
      "accuracy= 0.341797 loss= 3.05914\n",
      "accuracy= 0.300781 loss= 3.20376\n",
      "accuracy= 0.365234 loss= 2.97261\n",
      "accuracy= 0.349609 loss= 3.06508\n"
     ]
    }
   ],
   "source": [
    "sess = tf.Session()\n",
    "sess.run(tf.global_variables_initializer())\n",
    "\n",
    "# Randomly draw a file, for that file, randomly draw an interval of 1024 and find corresponding label\n",
    "# For now, read all data into memory - HAVE QUESTION ABOUT THIS\n",
    "\n",
    "#training, stop when objective value (o) is small enough\n",
    "for step in range(1000):\n",
    "    batch_xs, batch_ys = train.next_batch(64)\n",
    "    _, v_loss = sess.run([train_step, loss], feed_dict={x: batch_xs, y_: batch_ys})\n",
    "    if (step % 100 == 99):\n",
    "        batch_xs, batch_ys = train.next_batch(512) #change this to test batch\n",
    "        v_acc, v_loss = sess.run([accuracy, loss], feed_dict={x: batch_xs, y_: batch_ys})\n",
    "        # print the loss every 100 interations\n",
    "        print('accuracy=', v_acc, 'loss=', v_loss)"
   ]
  },
  {
   "cell_type": "code",
   "execution_count": null,
   "metadata": {
    "collapsed": true
   },
   "outputs": [],
   "source": []
  }
 ],
 "metadata": {
  "kernelspec": {
   "display_name": "Python 3",
   "language": "python",
   "name": "python3"
  },
  "language_info": {
   "codemirror_mode": {
    "name": "ipython",
    "version": 3
   },
   "file_extension": ".py",
   "mimetype": "text/x-python",
   "name": "python",
   "nbconvert_exporter": "python",
   "pygments_lexer": "ipython3",
   "version": "3.6.3"
  }
 },
 "nbformat": 4,
 "nbformat_minor": 2
}

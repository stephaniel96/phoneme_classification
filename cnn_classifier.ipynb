{
 "cells": [
  {
   "cell_type": "code",
<<<<<<< HEAD
   "execution_count": 7,
=======
   "execution_count": 16,
>>>>>>> 86453fd2be6217a5c0599da2da4ce5d0c2978441
   "metadata": {},
   "outputs": [],
   "source": [
    "#  Copyright 2016 The TensorFlow Authors. All Rights Reserved.\n",
    "# Modified original from MNIST Example\n",
    "\n",
    "from __future__ import absolute_import\n",
    "from __future__ import division\n",
    "from __future__ import print_function\n",
    "\n",
    "import numpy as np\n",
    "import tensorflow as tf\n",
    "import cnn_data_batch as data\n",
    "# tf.logging.set_verbosity(tf.logging.INFO)"
   ]
  },
  {
   "cell_type": "markdown",
   "metadata": {},
   "source": [
    "Network parameters"
   ]
  },
  {
   "cell_type": "code",
<<<<<<< HEAD
   "execution_count": 8,
   "metadata": {
    "collapsed": true
   },
=======
   "execution_count": 17,
   "metadata": {},
>>>>>>> 86453fd2be6217a5c0599da2da4ce5d0c2978441
   "outputs": [],
   "source": [
    "# Parameters\n",
    "learning_rate = 0.001\n",
<<<<<<< HEAD
    "display_step = 10\n",
=======
    "batch_size = 100\n",
>>>>>>> 86453fd2be6217a5c0599da2da4ce5d0c2978441
    "\n",
    "# Network Parameters\n",
    "n_input = 1024 # data input\n",
    "n_classes = 76 # total classes\n",
    "dropout = 0.9 # Dropout, probability to keep units\n",
    "\n",
    "# tf Graph input\n",
    "x = tf.placeholder(tf.float32, [None, n_input])\n",
    "y = tf.placeholder(tf.float32, [None, n_classes])\n",
    "keep_prob = tf.placeholder(tf.float32) #dropout (keep probability)"
   ]
  },
  {
   "cell_type": "code",
<<<<<<< HEAD
   "execution_count": 9,
   "metadata": {
    "collapsed": true
   },
=======
   "execution_count": 18,
   "metadata": {},
>>>>>>> 86453fd2be6217a5c0599da2da4ce5d0c2978441
   "outputs": [],
   "source": [
    "# Create some wrappers for simplicity\n",
    "def conv1d(x, W, b, width):\n",
    "    # Conv2D wrapper, with bias and relu activation\n",
    "    # [batch, height, width, channels]\n",
<<<<<<< HEAD
    "    x = tf.nn.conv2d(x, W, [1,1,width,1], padding='SAME') #1d convolution\n",
=======
    "    x = tf.nn.conv2d(x, W, [1,1,1,1], padding='SAME') #1d convolution\n",
>>>>>>> 86453fd2be6217a5c0599da2da4ce5d0c2978441
    "    x = tf.nn.bias_add(x, b)\n",
    "    return tf.nn.relu(x)\n",
    "\n",
    "\n",
    "def maxpool1d(x, k=4):\n",
    "    # MaxPool2D wrapper\n",
    "    return tf.nn.max_pool(x, ksize=[1, 1, k, 1], strides=[1, 1, k, 1],\n",
    "                          padding='SAME')"
   ]
  },
  {
   "cell_type": "code",
<<<<<<< HEAD
   "execution_count": 10,
   "metadata": {
    "collapsed": true
   },
=======
   "execution_count": 19,
   "metadata": {},
>>>>>>> 86453fd2be6217a5c0599da2da4ce5d0c2978441
   "outputs": [],
   "source": [
    "# Create model\n",
    "def conv_net(x, weights, biases, do):\n",
    "    # Reshape input picture\n",
    "    x = tf.reshape(x, shape=[-1, 1, n_input, 1]) #-1 for batch size\n",
    "    \n",
    "    # First Layer: Convolution Layer\n",
    "    conv1 = conv1d(x, weights['wc1'], biases['bc1'], 4)\n",
    "    # Max Pooling (down-sampling)\n",
    "    conv1 = maxpool1d(conv1, k=4)\n",
    "\n",
    "    # Second Layer: Convolution Layer\n",
    "    conv2 = conv1d(conv1, weights['wc2'], biases['bc2'], 2)\n",
    "    # Max Pooling (down-sampling)\n",
    "    conv2 = maxpool1d(conv2, k=4)\n",
    "    print(conv2.shape)\n",
    "    \n",
    "    # Fully connected layer\n",
    "    # Reshape conv2 output to fit fully connected layer input\n",
    "    size = [-1, weights['wd1'].get_shape().as_list()[0]]\n",
    "    print(size)\n",
    "    fc1 = tf.reshape(conv2, size)\n",
    "    fc1 = tf.add(tf.matmul(fc1, weights['wd1']), biases['bd1'])\n",
    "    fc1 = tf.nn.relu(fc1)\n",
    "    \n",
    "    # Apply Dropout\n",
    "    fc1 = tf.nn.dropout(fc1, do)\n",
    "\n",
    "    # Output, class prediction\n",
    "    out = tf.add(tf.matmul(fc1, weights['out']), biases['out'])\n",
    "    return out"
   ]
  },
  {
   "cell_type": "code",
<<<<<<< HEAD
   "execution_count": 13,
=======
   "execution_count": 20,
>>>>>>> 86453fd2be6217a5c0599da2da4ce5d0c2978441
   "metadata": {},
   "outputs": [
    {
     "name": "stdout",
     "output_type": "stream",
     "text": [
      "(?, 1, 64, 64)\n",
      "[-1, 4096]\n"
     ]
    }
   ],
   "source": [
    "# Store layers weight & bias\n",
    "weights = {\n",
<<<<<<< HEAD
    "    # 1x5 conv, 1 input, 32 outputs\n",
    "    'wc1': tf.Variable(tf.random_normal([1, 5, 1, 32])),\n",
    "    # 1x5 conv, 32 inputs, 64 outputs\n",
    "    'wc2': tf.Variable(tf.random_normal([1, 5, 32, 64])),\n",
    "    # fully connected, 7*7*64 inputs, 1024 outputs\n",
    "    'wd1': tf.Variable(tf.random_normal([1*64*64, 76])),\n",
    "    # 128 inputs, 76 outputs (class prediction)\n",
    "    'out': tf.Variable(tf.random_normal([76, n_classes]))\n",
=======
    "    # 1x4 conv, 1 input, 32 outputs\n",
    "    'wc1': tf.Variable(tf.random_normal([1, 4, 1, 32])),\n",
    "    # 1x4 conv, 32 inputs, 64 outputs\n",
    "    'wc2': tf.Variable(tf.random_normal([1, 4, 32, 64])),\n",
    "    # fully connected, 1*(1024/16)*64 inputs, 1024 outputs\n",
    "    'wd1': tf.Variable(tf.random_normal([1*64*64, 64])),\n",
    "    # Number inputs is channel depth, 76 outputs (class prediction)\n",
    "    'out': tf.Variable(tf.random_normal([64, n_classes]))\n",
>>>>>>> 86453fd2be6217a5c0599da2da4ce5d0c2978441
    "}\n",
    "\n",
    "biases = {\n",
    "    'bc1': tf.Variable(tf.random_normal([32])),\n",
    "    'bc2': tf.Variable(tf.random_normal([64])),\n",
<<<<<<< HEAD
    "    'bd1': tf.Variable(tf.random_normal([76])),\n",
=======
    "    'bd1': tf.Variable(tf.random_normal([64])),\n",
>>>>>>> 86453fd2be6217a5c0599da2da4ce5d0c2978441
    "    'out': tf.Variable(tf.random_normal([n_classes]))\n",
    "}\n",
    "\n",
    "# Construct model\n",
    "pred = conv_net(x, weights, biases, keep_prob)\n",
    "\n",
    "# Define loss and optimizer\n",
    "loss = tf.reduce_mean(tf.nn.softmax_cross_entropy_with_logits(logits=pred, labels=y))\n",
    "optimizer = tf.train.AdamOptimizer(learning_rate=learning_rate).minimize(loss)\n",
    "\n",
    "# Evaluate model\n",
    "correct_pred = tf.equal(tf.argmax(pred, 1), tf.argmax(y, 1))\n",
    "accuracy = tf.reduce_mean(tf.cast(correct_pred, tf.float32))\n",
    "\n",
    "# Initializing the variables\n",
    "init = tf.global_variables_initializer()"
   ]
  },
  {
   "cell_type": "code",
<<<<<<< HEAD
   "execution_count": 14,
=======
   "execution_count": 21,
>>>>>>> 86453fd2be6217a5c0599da2da4ce5d0c2978441
   "metadata": {
    "scrolled": false
   },
   "outputs": [
    {
<<<<<<< HEAD
     "name": "stdout",
     "output_type": "stream",
     "text": [
      "accuracy= 0.012 loss= 6277.08\n",
      "accuracy= 0.098 loss= 3098.3\n",
      "accuracy= 0.01 loss= 2170.66\n",
      "accuracy= 0.014 loss= 1497.49\n",
      "accuracy= 0.082 loss= 1024.15\n",
      "accuracy= 0.064 loss= 720.578\n",
      "accuracy= 0.088 loss= 445.208\n",
      "accuracy= 0.018 loss= 212.879\n",
      "accuracy= 0.03 loss= 64.7381\n",
      "accuracy= 0.036 loss= 41.0725\n",
      "accuracy= 0.042 loss= 15.7905\n",
      "accuracy= 0.06 loss= 14.4563\n",
      "accuracy= 0.05 loss= 9.62375\n",
      "accuracy= 0.054 loss= 6.61129\n",
      "accuracy= 0.024 loss= 7.89646\n",
      "accuracy= 0.042 loss= 10.3705\n",
      "accuracy= 0.038 loss= 6.2779\n",
      "accuracy= 0.034 loss= 6.0957\n",
      "accuracy= 0.038 loss= 7.95876\n",
      "accuracy= 0.044 loss= 7.90277\n",
      "accuracy= 0.048 loss= 5.41492\n",
      "accuracy= 0.044 loss= 6.80504\n",
      "accuracy= 0.028 loss= 6.94425\n",
      "accuracy= 0.024 loss= 6.3963\n",
      "accuracy= 0.032 loss= 7.177\n",
      "accuracy= 0.032 loss= 7.34947\n",
      "accuracy= 0.046 loss= 5.35044\n",
      "accuracy= 0.042 loss= 5.85738\n",
      "accuracy= 0.03 loss= 5.65809\n",
      "accuracy= 0.046 loss= 4.81694\n",
      "accuracy= 0.056 loss= 5.07273\n",
      "accuracy= 0.044 loss= 5.70857\n",
      "accuracy= 0.04 loss= 4.95052\n",
      "accuracy= 0.03 loss= 5.38178\n",
      "accuracy= 0.044 loss= 5.04459\n",
      "accuracy= 0.046 loss= 4.82699\n",
      "accuracy= 0.046 loss= 4.73756\n",
      "accuracy= 0.032 loss= 4.64163\n",
      "accuracy= 0.042 loss= 4.59837\n",
      "accuracy= 0.038 loss= 5.14242\n",
      "accuracy= 0.052 loss= 4.89899\n",
      "accuracy= 0.03 loss= 4.74691\n",
      "accuracy= 0.036 loss= 4.39782\n",
      "accuracy= 0.052 loss= 4.71602\n",
      "accuracy= 0.04 loss= 4.40346\n",
      "accuracy= 0.04 loss= 4.66796\n",
      "accuracy= 0.022 loss= 4.58431\n",
      "accuracy= 0.038 loss= 4.31658\n",
      "accuracy= 0.03 loss= 4.73638\n",
      "accuracy= 0.028 loss= 4.42801\n",
      "accuracy= 0.032 loss= 4.39322\n",
      "accuracy= 0.028 loss= 4.44087\n",
      "accuracy= 0.042 loss= 5.05135\n",
      "accuracy= 0.04 loss= 4.37584\n",
      "accuracy= 0.052 loss= 4.27768\n",
      "accuracy= 0.046 loss= 4.69204\n",
      "accuracy= 0.034 loss= 4.26554\n",
      "accuracy= 0.042 loss= 4.26564\n",
      "accuracy= 0.034 loss= 4.95281\n",
      "accuracy= 0.042 loss= 4.52645\n",
      "accuracy= 0.05 loss= 4.26915\n",
      "accuracy= 0.036 loss= 4.65807\n",
      "accuracy= 0.058 loss= 4.6306\n",
      "accuracy= 0.036 loss= 4.22799\n",
      "accuracy= 0.044 loss= 4.26983\n",
      "accuracy= 0.034 loss= 4.83824\n",
      "accuracy= 0.064 loss= 4.13098\n",
      "accuracy= 0.046 loss= 4.26167\n",
      "accuracy= 0.04 loss= 4.3436\n",
      "accuracy= 0.052 loss= 4.18717\n",
      "accuracy= 0.042 loss= 4.17357\n",
      "accuracy= 0.048 loss= 4.10658\n",
      "accuracy= 0.036 loss= 4.16586\n",
      "accuracy= 0.046 loss= 4.20021\n",
      "accuracy= 0.034 loss= 4.67315\n",
      "accuracy= 0.026 loss= 4.12147\n",
      "accuracy= 0.04 loss= 4.19512\n",
      "accuracy= 0.038 loss= 4.13238\n",
      "accuracy= 0.038 loss= 4.73745\n",
      "accuracy= 0.048 loss= 4.10516\n",
      "accuracy= 0.028 loss= 4.16182\n",
      "accuracy= 0.062 loss= 4.12682\n",
      "accuracy= 0.034 loss= 4.16018\n",
      "accuracy= 0.04 loss= 4.26917\n",
      "accuracy= 0.034 loss= 4.13411\n",
      "accuracy= 0.032 loss= 4.2223\n",
      "accuracy= 0.038 loss= 4.06251\n",
      "accuracy= 0.044 loss= 4.07554\n",
      "accuracy= 0.042 loss= 4.02416\n",
      "accuracy= 0.04 loss= 4.05999\n",
      "accuracy= 0.032 loss= 4.07149\n",
      "accuracy= 0.04 loss= 4.08414\n",
      "accuracy= 0.046 loss= 4.01645\n",
      "accuracy= 0.034 loss= 5.08175\n",
      "accuracy= 0.04 loss= 4.01834\n",
      "accuracy= 0.038 loss= 4.28314\n",
      "accuracy= 0.038 loss= 4.05806\n",
      "accuracy= 0.036 loss= 4.20914\n",
      "accuracy= 0.038 loss= 4.0009\n",
      "accuracy= 0.022 loss= 4.01525\n",
      "accuracy= 0.032 loss= 4.04849\n",
      "accuracy= 0.038 loss= 4.04423\n",
      "accuracy= 0.052 loss= 4.0385\n",
      "accuracy= 0.044 loss= 3.97689\n",
      "accuracy= 0.048 loss= 4.00255\n",
      "accuracy= 0.02 loss= 4.04026\n",
      "accuracy= 0.038 loss= 4.16419\n",
      "accuracy= 0.034 loss= 4.01191\n",
      "accuracy= 0.038 loss= 3.97918\n",
      "accuracy= 0.036 loss= 3.95673\n",
      "accuracy= 0.04 loss= 3.90213\n",
      "accuracy= 0.038 loss= 4.01605\n",
      "accuracy= 0.026 loss= 4.06409\n",
      "accuracy= 0.05 loss= 3.8657\n",
      "accuracy= 0.04 loss= 3.97921\n",
      "accuracy= 0.06 loss= 3.86566\n",
      "accuracy= 0.034 loss= 3.94654\n",
      "accuracy= 0.03 loss= 3.97839\n",
      "accuracy= 0.05 loss= 3.91012\n",
      "accuracy= 0.056 loss= 3.93459\n",
      "accuracy= 0.044 loss= 3.94093\n",
      "accuracy= 0.038 loss= 3.97262\n",
      "accuracy= 0.052 loss= 3.8872\n",
      "accuracy= 0.048 loss= 4.05857\n",
      "accuracy= 0.05 loss= 4.01183\n",
      "accuracy= 0.03 loss= 3.89755\n",
      "accuracy= 0.052 loss= 3.8956\n",
      "accuracy= 0.03 loss= 3.90672\n",
      "accuracy= 0.048 loss= 3.8991\n",
      "accuracy= 0.024 loss= 3.93308\n",
      "accuracy= 0.042 loss= 3.87496\n",
      "accuracy= 0.042 loss= 4.07236\n",
      "accuracy= 0.026 loss= 3.96827\n",
      "accuracy= 0.036 loss= 3.91203\n",
      "accuracy= 0.04 loss= 3.85263\n",
      "accuracy= 0.042 loss= 4.05625\n",
      "accuracy= 0.048 loss= 3.84948\n",
      "accuracy= 0.036 loss= 3.90977\n",
      "accuracy= 0.038 loss= 3.85751\n",
      "accuracy= 0.036 loss= 3.91763\n",
      "accuracy= 0.05 loss= 3.83271\n",
      "accuracy= 0.05 loss= 3.85894\n",
      "accuracy= 0.036 loss= 3.85948\n",
      "accuracy= 0.03 loss= 3.85417\n",
      "accuracy= 0.034 loss= 3.83378\n",
      "accuracy= 0.03 loss= 3.84511\n",
      "accuracy= 0.032 loss= 3.86566\n",
      "accuracy= 0.038 loss= 3.84493\n",
      "accuracy= 0.036 loss= 3.86572\n",
      "accuracy= 0.034 loss= 3.85455\n",
      "accuracy= 0.026 loss= 3.82661\n",
      "accuracy= 0.044 loss= 4.26513\n",
      "accuracy= 0.046 loss= 3.8514\n",
      "accuracy= 0.032 loss= 3.88009\n",
      "accuracy= 0.046 loss= 3.86052\n",
      "accuracy= 0.024 loss= 3.80493\n",
      "accuracy= 0.036 loss= 3.8449\n",
      "accuracy= 0.05 loss= 3.80055\n",
      "accuracy= 0.06 loss= 3.8109\n",
      "accuracy= 0.04 loss= 3.78666\n",
      "accuracy= 0.052 loss= 3.84852\n",
      "accuracy= 0.062 loss= 3.83013\n",
      "accuracy= 0.048 loss= 3.80725\n",
      "accuracy= 0.048 loss= 3.79445\n",
      "accuracy= 0.048 loss= 3.79936\n",
      "accuracy= 0.068 loss= 3.81069\n",
      "accuracy= 0.05 loss= 3.80427\n",
      "accuracy= 0.062 loss= 3.74629\n",
      "accuracy= 0.036 loss= 3.83813\n",
      "accuracy= 0.054 loss= 3.73471\n",
      "accuracy= 0.046 loss= 3.8306\n",
      "accuracy= 0.054 loss= 3.82574\n",
      "accuracy= 0.054 loss= 3.77023\n",
      "accuracy= 0.066 loss= 3.80692\n",
      "accuracy= 0.05 loss= 3.74733\n",
      "accuracy= 0.04 loss= 3.82189\n",
      "accuracy= 0.062 loss= 3.77351\n",
      "accuracy= 0.07 loss= 3.78663\n",
      "accuracy= 0.05 loss= 3.80397\n",
      "accuracy= 0.074 loss= 3.73817\n",
      "accuracy= 0.056 loss= 3.77536\n",
      "accuracy= 0.06 loss= 3.75999\n",
      "accuracy= 0.078 loss= 3.74156\n",
      "accuracy= 0.046 loss= 3.77813\n",
      "accuracy= 0.05 loss= 3.83966\n",
      "accuracy= 0.04 loss= 3.83356\n",
      "accuracy= 0.046 loss= 3.77715\n",
      "accuracy= 0.06 loss= 4.5959\n",
      "accuracy= 0.052 loss= 3.80377\n",
      "accuracy= 0.066 loss= 3.735\n",
      "accuracy= 0.048 loss= 3.75413\n",
      "accuracy= 0.044 loss= 3.78183\n",
      "accuracy= 0.06 loss= 3.71868\n",
      "accuracy= 0.054 loss= 3.74504\n",
      "accuracy= 0.05 loss= 3.74699\n",
      "accuracy= 0.066 loss= 3.7312\n",
      "accuracy= 0.048 loss= 3.77771\n",
      "accuracy= 0.07 loss= 3.7368\n",
      "accuracy= 0.066 loss= 3.74817\n",
      "accuracy= 0.064 loss= 3.72453\n",
      "Optimization Finished!\n",
      "Testing Accuracy: 0.05525\n"
=======
     "ename": "ResourceExhaustedError",
     "evalue": "OOM when allocating tensor with shape[4096,1024]\n\t [[Node: Variable_10/Adam_1/Assign = Assign[T=DT_FLOAT, _class=[\"loc:@Variable_10\"], use_locking=true, validate_shape=true, _device=\"/job:localhost/replica:0/task:0/device:GPU:0\"](Variable_10/Adam_1, Variable_10/Adam/Initializer/zeros)]]\n\nCaused by op 'Variable_10/Adam_1/Assign', defined at:\n  File \"/home/ubuntu/anaconda3/envs/tensorflow_p36/lib/python3.6/runpy.py\", line 193, in _run_module_as_main\n    \"__main__\", mod_spec)\n  File \"/home/ubuntu/anaconda3/envs/tensorflow_p36/lib/python3.6/runpy.py\", line 85, in _run_code\n    exec(code, run_globals)\n  File \"/home/ubuntu/anaconda3/envs/tensorflow_p36/lib/python3.6/site-packages/ipykernel/__main__.py\", line 3, in <module>\n    app.launch_new_instance()\n  File \"/home/ubuntu/anaconda3/envs/tensorflow_p36/lib/python3.6/site-packages/traitlets/config/application.py\", line 658, in launch_instance\n    app.start()\n  File \"/home/ubuntu/anaconda3/envs/tensorflow_p36/lib/python3.6/site-packages/ipykernel/kernelapp.py\", line 478, in start\n    self.io_loop.start()\n  File \"/home/ubuntu/anaconda3/envs/tensorflow_p36/lib/python3.6/site-packages/zmq/eventloop/ioloop.py\", line 177, in start\n    super(ZMQIOLoop, self).start()\n  File \"/home/ubuntu/anaconda3/envs/tensorflow_p36/lib/python3.6/site-packages/tornado/ioloop.py\", line 888, in start\n    handler_func(fd_obj, events)\n  File \"/home/ubuntu/anaconda3/envs/tensorflow_p36/lib/python3.6/site-packages/tornado/stack_context.py\", line 277, in null_wrapper\n    return fn(*args, **kwargs)\n  File \"/home/ubuntu/anaconda3/envs/tensorflow_p36/lib/python3.6/site-packages/zmq/eventloop/zmqstream.py\", line 440, in _handle_events\n    self._handle_recv()\n  File \"/home/ubuntu/anaconda3/envs/tensorflow_p36/lib/python3.6/site-packages/zmq/eventloop/zmqstream.py\", line 472, in _handle_recv\n    self._run_callback(callback, msg)\n  File \"/home/ubuntu/anaconda3/envs/tensorflow_p36/lib/python3.6/site-packages/zmq/eventloop/zmqstream.py\", line 414, in _run_callback\n    callback(*args, **kwargs)\n  File \"/home/ubuntu/anaconda3/envs/tensorflow_p36/lib/python3.6/site-packages/tornado/stack_context.py\", line 277, in null_wrapper\n    return fn(*args, **kwargs)\n  File \"/home/ubuntu/anaconda3/envs/tensorflow_p36/lib/python3.6/site-packages/ipykernel/kernelbase.py\", line 281, in dispatcher\n    return self.dispatch_shell(stream, msg)\n  File \"/home/ubuntu/anaconda3/envs/tensorflow_p36/lib/python3.6/site-packages/ipykernel/kernelbase.py\", line 232, in dispatch_shell\n    handler(stream, idents, msg)\n  File \"/home/ubuntu/anaconda3/envs/tensorflow_p36/lib/python3.6/site-packages/ipykernel/kernelbase.py\", line 397, in execute_request\n    user_expressions, allow_stdin)\n  File \"/home/ubuntu/anaconda3/envs/tensorflow_p36/lib/python3.6/site-packages/ipykernel/ipkernel.py\", line 208, in do_execute\n    res = shell.run_cell(code, store_history=store_history, silent=silent)\n  File \"/home/ubuntu/anaconda3/envs/tensorflow_p36/lib/python3.6/site-packages/ipykernel/zmqshell.py\", line 533, in run_cell\n    return super(ZMQInteractiveShell, self).run_cell(*args, **kwargs)\n  File \"/home/ubuntu/anaconda3/envs/tensorflow_p36/lib/python3.6/site-packages/IPython/core/interactiveshell.py\", line 2728, in run_cell\n    interactivity=interactivity, compiler=compiler, result=result)\n  File \"/home/ubuntu/anaconda3/envs/tensorflow_p36/lib/python3.6/site-packages/IPython/core/interactiveshell.py\", line 2850, in run_ast_nodes\n    if self.run_code(code, result):\n  File \"/home/ubuntu/anaconda3/envs/tensorflow_p36/lib/python3.6/site-packages/IPython/core/interactiveshell.py\", line 2910, in run_code\n    exec(code_obj, self.user_global_ns, self.user_ns)\n  File \"<ipython-input-10-49ac76b20fb4>\", line 25, in <module>\n    optimizer = tf.train.AdamOptimizer(learning_rate=learning_rate).minimize(loss)\n  File \"/home/ubuntu/anaconda3/envs/tensorflow_p36/lib/python3.6/site-packages/tensorflow/python/training/optimizer.py\", line 353, in minimize\n    name=name)\n  File \"/home/ubuntu/anaconda3/envs/tensorflow_p36/lib/python3.6/site-packages/tensorflow/python/training/optimizer.py\", line 474, in apply_gradients\n    self._create_slots([_get_variable_for(v) for v in var_list])\n  File \"/home/ubuntu/anaconda3/envs/tensorflow_p36/lib/python3.6/site-packages/tensorflow/python/training/adam.py\", line 137, in _create_slots\n    self._zeros_slot(v, \"v\", self._name)\n  File \"/home/ubuntu/anaconda3/envs/tensorflow_p36/lib/python3.6/site-packages/tensorflow/python/training/optimizer.py\", line 796, in _zeros_slot\n    named_slots[_var_key(var)] = slot_creator.create_zeros_slot(var, op_name)\n  File \"/home/ubuntu/anaconda3/envs/tensorflow_p36/lib/python3.6/site-packages/tensorflow/python/training/slot_creator.py\", line 174, in create_zeros_slot\n    colocate_with_primary=colocate_with_primary)\n  File \"/home/ubuntu/anaconda3/envs/tensorflow_p36/lib/python3.6/site-packages/tensorflow/python/training/slot_creator.py\", line 148, in create_slot_with_initializer\n    dtype)\n  File \"/home/ubuntu/anaconda3/envs/tensorflow_p36/lib/python3.6/site-packages/tensorflow/python/training/slot_creator.py\", line 67, in _create_slot_var\n    validate_shape=validate_shape)\n  File \"/home/ubuntu/anaconda3/envs/tensorflow_p36/lib/python3.6/site-packages/tensorflow/python/ops/variable_scope.py\", line 1203, in get_variable\n    constraint=constraint)\n  File \"/home/ubuntu/anaconda3/envs/tensorflow_p36/lib/python3.6/site-packages/tensorflow/python/ops/variable_scope.py\", line 1092, in get_variable\n    constraint=constraint)\n  File \"/home/ubuntu/anaconda3/envs/tensorflow_p36/lib/python3.6/site-packages/tensorflow/python/ops/variable_scope.py\", line 425, in get_variable\n    constraint=constraint)\n  File \"/home/ubuntu/anaconda3/envs/tensorflow_p36/lib/python3.6/site-packages/tensorflow/python/ops/variable_scope.py\", line 394, in _true_getter\n    use_resource=use_resource, constraint=constraint)\n  File \"/home/ubuntu/anaconda3/envs/tensorflow_p36/lib/python3.6/site-packages/tensorflow/python/ops/variable_scope.py\", line 805, in _get_single_variable\n    constraint=constraint)\n  File \"/home/ubuntu/anaconda3/envs/tensorflow_p36/lib/python3.6/site-packages/tensorflow/python/ops/variables.py\", line 213, in __init__\n    constraint=constraint)\n  File \"/home/ubuntu/anaconda3/envs/tensorflow_p36/lib/python3.6/site-packages/tensorflow/python/ops/variables.py\", line 346, in _init_from_args\n    validate_shape=validate_shape).op\n  File \"/home/ubuntu/anaconda3/envs/tensorflow_p36/lib/python3.6/site-packages/tensorflow/python/ops/state_ops.py\", line 276, in assign\n    validate_shape=validate_shape)\n  File \"/home/ubuntu/anaconda3/envs/tensorflow_p36/lib/python3.6/site-packages/tensorflow/python/ops/gen_state_ops.py\", line 57, in assign\n    use_locking=use_locking, name=name)\n  File \"/home/ubuntu/anaconda3/envs/tensorflow_p36/lib/python3.6/site-packages/tensorflow/python/framework/op_def_library.py\", line 787, in _apply_op_helper\n    op_def=op_def)\n  File \"/home/ubuntu/anaconda3/envs/tensorflow_p36/lib/python3.6/site-packages/tensorflow/python/framework/ops.py\", line 2956, in create_op\n    op_def=op_def)\n  File \"/home/ubuntu/anaconda3/envs/tensorflow_p36/lib/python3.6/site-packages/tensorflow/python/framework/ops.py\", line 1470, in __init__\n    self._traceback = self._graph._extract_stack()  # pylint: disable=protected-access\n\nResourceExhaustedError (see above for traceback): OOM when allocating tensor with shape[4096,1024]\n\t [[Node: Variable_10/Adam_1/Assign = Assign[T=DT_FLOAT, _class=[\"loc:@Variable_10\"], use_locking=true, validate_shape=true, _device=\"/job:localhost/replica:0/task:0/device:GPU:0\"](Variable_10/Adam_1, Variable_10/Adam/Initializer/zeros)]]\n",
     "output_type": "error",
     "traceback": [
      "\u001b[0;31m---------------------------------------------------------------------------\u001b[0m",
      "\u001b[0;31mResourceExhaustedError\u001b[0m                    Traceback (most recent call last)",
      "\u001b[0;32m~/anaconda3/envs/tensorflow_p36/lib/python3.6/site-packages/tensorflow/python/client/session.py\u001b[0m in \u001b[0;36m_do_call\u001b[0;34m(self, fn, *args)\u001b[0m\n\u001b[1;32m   1322\u001b[0m     \u001b[0;32mtry\u001b[0m\u001b[0;34m:\u001b[0m\u001b[0;34m\u001b[0m\u001b[0m\n\u001b[0;32m-> 1323\u001b[0;31m       \u001b[0;32mreturn\u001b[0m \u001b[0mfn\u001b[0m\u001b[0;34m(\u001b[0m\u001b[0;34m*\u001b[0m\u001b[0margs\u001b[0m\u001b[0;34m)\u001b[0m\u001b[0;34m\u001b[0m\u001b[0m\n\u001b[0m\u001b[1;32m   1324\u001b[0m     \u001b[0;32mexcept\u001b[0m \u001b[0merrors\u001b[0m\u001b[0;34m.\u001b[0m\u001b[0mOpError\u001b[0m \u001b[0;32mas\u001b[0m \u001b[0me\u001b[0m\u001b[0;34m:\u001b[0m\u001b[0;34m\u001b[0m\u001b[0m\n",
      "\u001b[0;32m~/anaconda3/envs/tensorflow_p36/lib/python3.6/site-packages/tensorflow/python/client/session.py\u001b[0m in \u001b[0;36m_run_fn\u001b[0;34m(session, feed_dict, fetch_list, target_list, options, run_metadata)\u001b[0m\n\u001b[1;32m   1301\u001b[0m                                    \u001b[0mfeed_dict\u001b[0m\u001b[0;34m,\u001b[0m \u001b[0mfetch_list\u001b[0m\u001b[0;34m,\u001b[0m \u001b[0mtarget_list\u001b[0m\u001b[0;34m,\u001b[0m\u001b[0;34m\u001b[0m\u001b[0m\n\u001b[0;32m-> 1302\u001b[0;31m                                    status, run_metadata)\n\u001b[0m\u001b[1;32m   1303\u001b[0m \u001b[0;34m\u001b[0m\u001b[0m\n",
      "\u001b[0;32m~/anaconda3/envs/tensorflow_p36/lib/python3.6/site-packages/tensorflow/python/framework/errors_impl.py\u001b[0m in \u001b[0;36m__exit__\u001b[0;34m(self, type_arg, value_arg, traceback_arg)\u001b[0m\n\u001b[1;32m    472\u001b[0m             \u001b[0mcompat\u001b[0m\u001b[0;34m.\u001b[0m\u001b[0mas_text\u001b[0m\u001b[0;34m(\u001b[0m\u001b[0mc_api\u001b[0m\u001b[0;34m.\u001b[0m\u001b[0mTF_Message\u001b[0m\u001b[0;34m(\u001b[0m\u001b[0mself\u001b[0m\u001b[0;34m.\u001b[0m\u001b[0mstatus\u001b[0m\u001b[0;34m.\u001b[0m\u001b[0mstatus\u001b[0m\u001b[0;34m)\u001b[0m\u001b[0;34m)\u001b[0m\u001b[0;34m,\u001b[0m\u001b[0;34m\u001b[0m\u001b[0m\n\u001b[0;32m--> 473\u001b[0;31m             c_api.TF_GetCode(self.status.status))\n\u001b[0m\u001b[1;32m    474\u001b[0m     \u001b[0;31m# Delete the underlying status object from memory otherwise it stays alive\u001b[0m\u001b[0;34m\u001b[0m\u001b[0;34m\u001b[0m\u001b[0m\n",
      "\u001b[0;31mResourceExhaustedError\u001b[0m: OOM when allocating tensor with shape[4096,1024]\n\t [[Node: Variable_10/Adam_1/Assign = Assign[T=DT_FLOAT, _class=[\"loc:@Variable_10\"], use_locking=true, validate_shape=true, _device=\"/job:localhost/replica:0/task:0/device:GPU:0\"](Variable_10/Adam_1, Variable_10/Adam/Initializer/zeros)]]",
      "\nDuring handling of the above exception, another exception occurred:\n",
      "\u001b[0;31mResourceExhaustedError\u001b[0m                    Traceback (most recent call last)",
      "\u001b[0;32m<ipython-input-21-5850df4ecac0>\u001b[0m in \u001b[0;36m<module>\u001b[0;34m()\u001b[0m\n\u001b[1;32m      1\u001b[0m \u001b[0;31m# Launch the graph\u001b[0m\u001b[0;34m\u001b[0m\u001b[0;34m\u001b[0m\u001b[0m\n\u001b[1;32m      2\u001b[0m \u001b[0;32mwith\u001b[0m \u001b[0mtf\u001b[0m\u001b[0;34m.\u001b[0m\u001b[0mSession\u001b[0m\u001b[0;34m(\u001b[0m\u001b[0;34m)\u001b[0m \u001b[0;32mas\u001b[0m \u001b[0msess\u001b[0m\u001b[0;34m:\u001b[0m\u001b[0;34m\u001b[0m\u001b[0m\n\u001b[0;32m----> 3\u001b[0;31m     \u001b[0msess\u001b[0m\u001b[0;34m.\u001b[0m\u001b[0mrun\u001b[0m\u001b[0;34m(\u001b[0m\u001b[0minit\u001b[0m\u001b[0;34m)\u001b[0m\u001b[0;34m\u001b[0m\u001b[0m\n\u001b[0m\u001b[1;32m      4\u001b[0m     \u001b[0;31m# Keep training until reach max iterations\u001b[0m\u001b[0;34m\u001b[0m\u001b[0;34m\u001b[0m\u001b[0m\n\u001b[1;32m      5\u001b[0m     \u001b[0;32mfor\u001b[0m \u001b[0mstep\u001b[0m \u001b[0;32min\u001b[0m \u001b[0mrange\u001b[0m\u001b[0;34m(\u001b[0m\u001b[0;36m2000\u001b[0m\u001b[0;34m)\u001b[0m\u001b[0;34m:\u001b[0m\u001b[0;34m\u001b[0m\u001b[0m\n",
      "\u001b[0;32m~/anaconda3/envs/tensorflow_p36/lib/python3.6/site-packages/tensorflow/python/client/session.py\u001b[0m in \u001b[0;36mrun\u001b[0;34m(self, fetches, feed_dict, options, run_metadata)\u001b[0m\n\u001b[1;32m    887\u001b[0m     \u001b[0;32mtry\u001b[0m\u001b[0;34m:\u001b[0m\u001b[0;34m\u001b[0m\u001b[0m\n\u001b[1;32m    888\u001b[0m       result = self._run(None, fetches, feed_dict, options_ptr,\n\u001b[0;32m--> 889\u001b[0;31m                          run_metadata_ptr)\n\u001b[0m\u001b[1;32m    890\u001b[0m       \u001b[0;32mif\u001b[0m \u001b[0mrun_metadata\u001b[0m\u001b[0;34m:\u001b[0m\u001b[0;34m\u001b[0m\u001b[0m\n\u001b[1;32m    891\u001b[0m         \u001b[0mproto_data\u001b[0m \u001b[0;34m=\u001b[0m \u001b[0mtf_session\u001b[0m\u001b[0;34m.\u001b[0m\u001b[0mTF_GetBuffer\u001b[0m\u001b[0;34m(\u001b[0m\u001b[0mrun_metadata_ptr\u001b[0m\u001b[0;34m)\u001b[0m\u001b[0;34m\u001b[0m\u001b[0m\n",
      "\u001b[0;32m~/anaconda3/envs/tensorflow_p36/lib/python3.6/site-packages/tensorflow/python/client/session.py\u001b[0m in \u001b[0;36m_run\u001b[0;34m(self, handle, fetches, feed_dict, options, run_metadata)\u001b[0m\n\u001b[1;32m   1118\u001b[0m     \u001b[0;32mif\u001b[0m \u001b[0mfinal_fetches\u001b[0m \u001b[0;32mor\u001b[0m \u001b[0mfinal_targets\u001b[0m \u001b[0;32mor\u001b[0m \u001b[0;34m(\u001b[0m\u001b[0mhandle\u001b[0m \u001b[0;32mand\u001b[0m \u001b[0mfeed_dict_tensor\u001b[0m\u001b[0;34m)\u001b[0m\u001b[0;34m:\u001b[0m\u001b[0;34m\u001b[0m\u001b[0m\n\u001b[1;32m   1119\u001b[0m       results = self._do_run(handle, final_targets, final_fetches,\n\u001b[0;32m-> 1120\u001b[0;31m                              feed_dict_tensor, options, run_metadata)\n\u001b[0m\u001b[1;32m   1121\u001b[0m     \u001b[0;32melse\u001b[0m\u001b[0;34m:\u001b[0m\u001b[0;34m\u001b[0m\u001b[0m\n\u001b[1;32m   1122\u001b[0m       \u001b[0mresults\u001b[0m \u001b[0;34m=\u001b[0m \u001b[0;34m[\u001b[0m\u001b[0;34m]\u001b[0m\u001b[0;34m\u001b[0m\u001b[0m\n",
      "\u001b[0;32m~/anaconda3/envs/tensorflow_p36/lib/python3.6/site-packages/tensorflow/python/client/session.py\u001b[0m in \u001b[0;36m_do_run\u001b[0;34m(self, handle, target_list, fetch_list, feed_dict, options, run_metadata)\u001b[0m\n\u001b[1;32m   1315\u001b[0m     \u001b[0;32mif\u001b[0m \u001b[0mhandle\u001b[0m \u001b[0;32mis\u001b[0m \u001b[0;32mNone\u001b[0m\u001b[0;34m:\u001b[0m\u001b[0;34m\u001b[0m\u001b[0m\n\u001b[1;32m   1316\u001b[0m       return self._do_call(_run_fn, self._session, feeds, fetches, targets,\n\u001b[0;32m-> 1317\u001b[0;31m                            options, run_metadata)\n\u001b[0m\u001b[1;32m   1318\u001b[0m     \u001b[0;32melse\u001b[0m\u001b[0;34m:\u001b[0m\u001b[0;34m\u001b[0m\u001b[0m\n\u001b[1;32m   1319\u001b[0m       \u001b[0;32mreturn\u001b[0m \u001b[0mself\u001b[0m\u001b[0;34m.\u001b[0m\u001b[0m_do_call\u001b[0m\u001b[0;34m(\u001b[0m\u001b[0m_prun_fn\u001b[0m\u001b[0;34m,\u001b[0m \u001b[0mself\u001b[0m\u001b[0;34m.\u001b[0m\u001b[0m_session\u001b[0m\u001b[0;34m,\u001b[0m \u001b[0mhandle\u001b[0m\u001b[0;34m,\u001b[0m \u001b[0mfeeds\u001b[0m\u001b[0;34m,\u001b[0m \u001b[0mfetches\u001b[0m\u001b[0;34m)\u001b[0m\u001b[0;34m\u001b[0m\u001b[0m\n",
      "\u001b[0;32m~/anaconda3/envs/tensorflow_p36/lib/python3.6/site-packages/tensorflow/python/client/session.py\u001b[0m in \u001b[0;36m_do_call\u001b[0;34m(self, fn, *args)\u001b[0m\n\u001b[1;32m   1334\u001b[0m         \u001b[0;32mexcept\u001b[0m \u001b[0mKeyError\u001b[0m\u001b[0;34m:\u001b[0m\u001b[0;34m\u001b[0m\u001b[0m\n\u001b[1;32m   1335\u001b[0m           \u001b[0;32mpass\u001b[0m\u001b[0;34m\u001b[0m\u001b[0m\n\u001b[0;32m-> 1336\u001b[0;31m       \u001b[0;32mraise\u001b[0m \u001b[0mtype\u001b[0m\u001b[0;34m(\u001b[0m\u001b[0me\u001b[0m\u001b[0;34m)\u001b[0m\u001b[0;34m(\u001b[0m\u001b[0mnode_def\u001b[0m\u001b[0;34m,\u001b[0m \u001b[0mop\u001b[0m\u001b[0;34m,\u001b[0m \u001b[0mmessage\u001b[0m\u001b[0;34m)\u001b[0m\u001b[0;34m\u001b[0m\u001b[0m\n\u001b[0m\u001b[1;32m   1337\u001b[0m \u001b[0;34m\u001b[0m\u001b[0m\n\u001b[1;32m   1338\u001b[0m   \u001b[0;32mdef\u001b[0m \u001b[0m_extend_graph\u001b[0m\u001b[0;34m(\u001b[0m\u001b[0mself\u001b[0m\u001b[0;34m)\u001b[0m\u001b[0;34m:\u001b[0m\u001b[0;34m\u001b[0m\u001b[0m\n",
      "\u001b[0;31mResourceExhaustedError\u001b[0m: OOM when allocating tensor with shape[4096,1024]\n\t [[Node: Variable_10/Adam_1/Assign = Assign[T=DT_FLOAT, _class=[\"loc:@Variable_10\"], use_locking=true, validate_shape=true, _device=\"/job:localhost/replica:0/task:0/device:GPU:0\"](Variable_10/Adam_1, Variable_10/Adam/Initializer/zeros)]]\n\nCaused by op 'Variable_10/Adam_1/Assign', defined at:\n  File \"/home/ubuntu/anaconda3/envs/tensorflow_p36/lib/python3.6/runpy.py\", line 193, in _run_module_as_main\n    \"__main__\", mod_spec)\n  File \"/home/ubuntu/anaconda3/envs/tensorflow_p36/lib/python3.6/runpy.py\", line 85, in _run_code\n    exec(code, run_globals)\n  File \"/home/ubuntu/anaconda3/envs/tensorflow_p36/lib/python3.6/site-packages/ipykernel/__main__.py\", line 3, in <module>\n    app.launch_new_instance()\n  File \"/home/ubuntu/anaconda3/envs/tensorflow_p36/lib/python3.6/site-packages/traitlets/config/application.py\", line 658, in launch_instance\n    app.start()\n  File \"/home/ubuntu/anaconda3/envs/tensorflow_p36/lib/python3.6/site-packages/ipykernel/kernelapp.py\", line 478, in start\n    self.io_loop.start()\n  File \"/home/ubuntu/anaconda3/envs/tensorflow_p36/lib/python3.6/site-packages/zmq/eventloop/ioloop.py\", line 177, in start\n    super(ZMQIOLoop, self).start()\n  File \"/home/ubuntu/anaconda3/envs/tensorflow_p36/lib/python3.6/site-packages/tornado/ioloop.py\", line 888, in start\n    handler_func(fd_obj, events)\n  File \"/home/ubuntu/anaconda3/envs/tensorflow_p36/lib/python3.6/site-packages/tornado/stack_context.py\", line 277, in null_wrapper\n    return fn(*args, **kwargs)\n  File \"/home/ubuntu/anaconda3/envs/tensorflow_p36/lib/python3.6/site-packages/zmq/eventloop/zmqstream.py\", line 440, in _handle_events\n    self._handle_recv()\n  File \"/home/ubuntu/anaconda3/envs/tensorflow_p36/lib/python3.6/site-packages/zmq/eventloop/zmqstream.py\", line 472, in _handle_recv\n    self._run_callback(callback, msg)\n  File \"/home/ubuntu/anaconda3/envs/tensorflow_p36/lib/python3.6/site-packages/zmq/eventloop/zmqstream.py\", line 414, in _run_callback\n    callback(*args, **kwargs)\n  File \"/home/ubuntu/anaconda3/envs/tensorflow_p36/lib/python3.6/site-packages/tornado/stack_context.py\", line 277, in null_wrapper\n    return fn(*args, **kwargs)\n  File \"/home/ubuntu/anaconda3/envs/tensorflow_p36/lib/python3.6/site-packages/ipykernel/kernelbase.py\", line 281, in dispatcher\n    return self.dispatch_shell(stream, msg)\n  File \"/home/ubuntu/anaconda3/envs/tensorflow_p36/lib/python3.6/site-packages/ipykernel/kernelbase.py\", line 232, in dispatch_shell\n    handler(stream, idents, msg)\n  File \"/home/ubuntu/anaconda3/envs/tensorflow_p36/lib/python3.6/site-packages/ipykernel/kernelbase.py\", line 397, in execute_request\n    user_expressions, allow_stdin)\n  File \"/home/ubuntu/anaconda3/envs/tensorflow_p36/lib/python3.6/site-packages/ipykernel/ipkernel.py\", line 208, in do_execute\n    res = shell.run_cell(code, store_history=store_history, silent=silent)\n  File \"/home/ubuntu/anaconda3/envs/tensorflow_p36/lib/python3.6/site-packages/ipykernel/zmqshell.py\", line 533, in run_cell\n    return super(ZMQInteractiveShell, self).run_cell(*args, **kwargs)\n  File \"/home/ubuntu/anaconda3/envs/tensorflow_p36/lib/python3.6/site-packages/IPython/core/interactiveshell.py\", line 2728, in run_cell\n    interactivity=interactivity, compiler=compiler, result=result)\n  File \"/home/ubuntu/anaconda3/envs/tensorflow_p36/lib/python3.6/site-packages/IPython/core/interactiveshell.py\", line 2850, in run_ast_nodes\n    if self.run_code(code, result):\n  File \"/home/ubuntu/anaconda3/envs/tensorflow_p36/lib/python3.6/site-packages/IPython/core/interactiveshell.py\", line 2910, in run_code\n    exec(code_obj, self.user_global_ns, self.user_ns)\n  File \"<ipython-input-10-49ac76b20fb4>\", line 25, in <module>\n    optimizer = tf.train.AdamOptimizer(learning_rate=learning_rate).minimize(loss)\n  File \"/home/ubuntu/anaconda3/envs/tensorflow_p36/lib/python3.6/site-packages/tensorflow/python/training/optimizer.py\", line 353, in minimize\n    name=name)\n  File \"/home/ubuntu/anaconda3/envs/tensorflow_p36/lib/python3.6/site-packages/tensorflow/python/training/optimizer.py\", line 474, in apply_gradients\n    self._create_slots([_get_variable_for(v) for v in var_list])\n  File \"/home/ubuntu/anaconda3/envs/tensorflow_p36/lib/python3.6/site-packages/tensorflow/python/training/adam.py\", line 137, in _create_slots\n    self._zeros_slot(v, \"v\", self._name)\n  File \"/home/ubuntu/anaconda3/envs/tensorflow_p36/lib/python3.6/site-packages/tensorflow/python/training/optimizer.py\", line 796, in _zeros_slot\n    named_slots[_var_key(var)] = slot_creator.create_zeros_slot(var, op_name)\n  File \"/home/ubuntu/anaconda3/envs/tensorflow_p36/lib/python3.6/site-packages/tensorflow/python/training/slot_creator.py\", line 174, in create_zeros_slot\n    colocate_with_primary=colocate_with_primary)\n  File \"/home/ubuntu/anaconda3/envs/tensorflow_p36/lib/python3.6/site-packages/tensorflow/python/training/slot_creator.py\", line 148, in create_slot_with_initializer\n    dtype)\n  File \"/home/ubuntu/anaconda3/envs/tensorflow_p36/lib/python3.6/site-packages/tensorflow/python/training/slot_creator.py\", line 67, in _create_slot_var\n    validate_shape=validate_shape)\n  File \"/home/ubuntu/anaconda3/envs/tensorflow_p36/lib/python3.6/site-packages/tensorflow/python/ops/variable_scope.py\", line 1203, in get_variable\n    constraint=constraint)\n  File \"/home/ubuntu/anaconda3/envs/tensorflow_p36/lib/python3.6/site-packages/tensorflow/python/ops/variable_scope.py\", line 1092, in get_variable\n    constraint=constraint)\n  File \"/home/ubuntu/anaconda3/envs/tensorflow_p36/lib/python3.6/site-packages/tensorflow/python/ops/variable_scope.py\", line 425, in get_variable\n    constraint=constraint)\n  File \"/home/ubuntu/anaconda3/envs/tensorflow_p36/lib/python3.6/site-packages/tensorflow/python/ops/variable_scope.py\", line 394, in _true_getter\n    use_resource=use_resource, constraint=constraint)\n  File \"/home/ubuntu/anaconda3/envs/tensorflow_p36/lib/python3.6/site-packages/tensorflow/python/ops/variable_scope.py\", line 805, in _get_single_variable\n    constraint=constraint)\n  File \"/home/ubuntu/anaconda3/envs/tensorflow_p36/lib/python3.6/site-packages/tensorflow/python/ops/variables.py\", line 213, in __init__\n    constraint=constraint)\n  File \"/home/ubuntu/anaconda3/envs/tensorflow_p36/lib/python3.6/site-packages/tensorflow/python/ops/variables.py\", line 346, in _init_from_args\n    validate_shape=validate_shape).op\n  File \"/home/ubuntu/anaconda3/envs/tensorflow_p36/lib/python3.6/site-packages/tensorflow/python/ops/state_ops.py\", line 276, in assign\n    validate_shape=validate_shape)\n  File \"/home/ubuntu/anaconda3/envs/tensorflow_p36/lib/python3.6/site-packages/tensorflow/python/ops/gen_state_ops.py\", line 57, in assign\n    use_locking=use_locking, name=name)\n  File \"/home/ubuntu/anaconda3/envs/tensorflow_p36/lib/python3.6/site-packages/tensorflow/python/framework/op_def_library.py\", line 787, in _apply_op_helper\n    op_def=op_def)\n  File \"/home/ubuntu/anaconda3/envs/tensorflow_p36/lib/python3.6/site-packages/tensorflow/python/framework/ops.py\", line 2956, in create_op\n    op_def=op_def)\n  File \"/home/ubuntu/anaconda3/envs/tensorflow_p36/lib/python3.6/site-packages/tensorflow/python/framework/ops.py\", line 1470, in __init__\n    self._traceback = self._graph._extract_stack()  # pylint: disable=protected-access\n\nResourceExhaustedError (see above for traceback): OOM when allocating tensor with shape[4096,1024]\n\t [[Node: Variable_10/Adam_1/Assign = Assign[T=DT_FLOAT, _class=[\"loc:@Variable_10\"], use_locking=true, validate_shape=true, _device=\"/job:localhost/replica:0/task:0/device:GPU:0\"](Variable_10/Adam_1, Variable_10/Adam/Initializer/zeros)]]\n"
>>>>>>> 86453fd2be6217a5c0599da2da4ce5d0c2978441
     ]
    }
   ],
   "source": [
    "# Launch the graph\n",
    "with tf.Session() as sess:\n",
    "    sess.run(init)\n",
    "    # Keep training until reach max iterations\n",
    "    for step in range(2000):\n",
<<<<<<< HEAD
    "        batch_x, batch_y = data.next_train_batch(500)\n",
=======
    "        batch_x, batch_y = data.next_train_batch(batch_size)\n",
>>>>>>> 86453fd2be6217a5c0599da2da4ce5d0c2978441
    "        # Run optimization op (backprop)\n",
    "        sess.run(optimizer, feed_dict={x: batch_x, y: batch_y, keep_prob: dropout})\n",
    "        if step % 50 == 0:\n",
    "            # Calculate batch loss and accuracy\n",
    "            v_loss, v_acc = sess.run([loss, accuracy], feed_dict={x: batch_x,\n",
    "                                                              y: batch_y,\n",
    "                                                              keep_prob: 1.})\n",
    "            print('accuracy=', v_acc, 'loss=', v_loss)\n",
<<<<<<< HEAD
=======
    "            \n",
>>>>>>> 86453fd2be6217a5c0599da2da4ce5d0c2978441
    "    print (\"Optimization Finished!\")\n",
    "\n",
    "    # Calculate accuracy for 256 samples\n",
    "    batch_x, batch_y = data.next_test_batch(4000)\n",
    "    print (\"Testing Accuracy:\", \\\n",
    "        sess.run(accuracy, feed_dict={x: batch_x,\n",
    "                                      y: batch_y, \n",
    "                                      keep_prob: 1.}))"
   ]
  },
  {
   "cell_type": "code",
   "execution_count": null,
   "metadata": {
    "collapsed": true
   },
   "outputs": [],
   "source": []
  }
 ],
 "metadata": {
  "kernelspec": {
   "display_name": "Python [default]",
   "language": "python",
   "name": "python3"
  },
  "language_info": {
   "codemirror_mode": {
    "name": "ipython",
    "version": 3
   },
   "file_extension": ".py",
   "mimetype": "text/x-python",
   "name": "python",
   "nbconvert_exporter": "python",
   "pygments_lexer": "ipython3",
   "version": "3.6.3"
  }
 },
 "nbformat": 4,
 "nbformat_minor": 2
}

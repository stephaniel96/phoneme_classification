{
 "cells": [
  {
   "cell_type": "code",
   "execution_count": 1,
   "metadata": {},
   "outputs": [
    {
     "name": "stdout",
     "output_type": "stream",
     "text": [
      "/home/ubuntu/anaconda3/envs/tensorflow_p36/bin/python\n"
     ]
    }
   ],
   "source": [
    "from __future__ import print_function\n",
    "import sys\n",
    "print (sys.executable)"
   ]
  },
  {
   "cell_type": "code",
   "execution_count": 2,
   "metadata": {
    "scrolled": true
   },
   "outputs": [
    {
     "name": "stderr",
     "output_type": "stream",
     "text": [
      "/home/ubuntu/anaconda3/envs/tensorflow_p36/lib/python3.6/importlib/_bootstrap.py:219: RuntimeWarning: compiletime version 3.5 of module 'tensorflow.python.framework.fast_tensor_util' does not match runtime version 3.6\n",
      "  return f(*args, **kwds)\n"
     ]
    }
   ],
   "source": [
    "import tensorflow as tf\n",
    "import matplotlib.pyplot as plt\n",
    "import numpy as np\n",
    "import scipy.io as sio\n",
    "\n",
    "import data_batch as data"
   ]
  },
  {
   "cell_type": "markdown",
   "metadata": {},
   "source": [
    "#### Define the blocks\n",
    "Always remember the mental model:\n",
    "input => representation learning => loss => optimizer"
   ]
  },
  {
   "cell_type": "markdown",
   "metadata": {},
   "source": [
    "Step 1: define input (and output, because during the training we need the ground truth as reference)"
   ]
  },
  {
   "cell_type": "code",
   "execution_count": 3,
   "metadata": {},
   "outputs": [],
   "source": [
    "tf.reset_default_graph()\n",
    "# [1] Input\n",
    "x = tf.placeholder(tf.float32, [None, data.INTERVAL_SIZE])\n",
    "# y_ holds the true output, \n",
    "# we use this placeholder to pass the true recognition result to teach the network\n",
    "y_ = tf.placeholder(tf.int32, [None])"
   ]
  },
  {
   "cell_type": "markdown",
   "metadata": {},
   "source": [
    "Step 2: Representation learning (the network that reveals the information contained in the image). Here we use 1 layer of fully connected network"
   ]
  },
  {
   "cell_type": "code",
   "execution_count": 4,
   "metadata": {},
   "outputs": [],
   "source": [
    "# [2] network, first layer\n",
    "weight1 = tf.Variable(tf.zeros([data.INTERVAL_SIZE, 76])) # can use 76 for simplicity\n",
    "bias1 = tf.Variable(tf.zeros([76]))\n",
    "act_hidden1 = tf.nn.relu(tf.add(tf.matmul(x, weight1), bias1))\n",
    "\n",
    "# Network 2nd layer\n",
    "weight2 = tf.Variable(tf.zeros([76, 76])) # can use 76 for simplicity\n",
    "bias2 = tf.Variable(tf.zeros([76]))\n",
    "act_hidden2 = tf.nn.relu(tf.add(tf.matmul(act_hidden1, weight2), bias2))\n",
    "\n",
    "# Network 3rd layer\n",
    "weight3 = tf.Variable(tf.zeros([76, 76])) # can use 76 for simplicity\n",
    "bias3 = tf.Variable(tf.zeros([76]))\n",
    "act_hidden3 = tf.nn.relu(tf.add(tf.matmul(act_hidden2, weight3), bias3))\n",
    "\n",
    "# Network 4th layer\n",
    "weight4 = tf.Variable(tf.zeros([76, 76])) # can use 76 for simplicity\n",
    "bias4 = tf.Variable(tf.zeros([76]))\n",
    "act_hidden4 = tf.nn.relu(tf.add(tf.matmul(act_hidden3, weight4), bias4))\n",
    "\n",
    "# Output layer\n",
    "weight_output = tf.Variable(tf.zeros([76, 76])) # 76 x 76 \n",
    "bias_output = tf.Variable(tf.zeros([76]))\n",
    "output = tf.add(tf.matmul(act_hidden1, weight_output), bias_output)\n",
    "\n",
    "# while the layer is not the last layer, we can have any number, bottle neck layer < 76, extract information > 76"
   ]
  },
  {
   "cell_type": "markdown",
   "metadata": {},
   "source": [
    "Step 3: loss function, to define what's a good prediction "
   ]
  },
  {
   "cell_type": "code",
   "execution_count": 5,
   "metadata": {},
   "outputs": [],
   "source": [
    "# [3] loss, this loss function below outputs a scalar to show who close the network's guess\n",
    "# O can represent the true recognition result y_. \n",
    "# Here O[j] shows a rating of how likely x is digit j, we will show that later\n",
    "loss_all = tf.nn.sparse_softmax_cross_entropy_with_logits(logits=output, labels=y_)\n",
    "loss = tf.reduce_mean(loss_all)"
   ]
  },
  {
   "cell_type": "markdown",
   "metadata": {},
   "source": [
    "Step 4: Optimizer, strategy for training"
   ]
  },
  {
   "cell_type": "code",
   "execution_count": 6,
   "metadata": {},
   "outputs": [],
   "source": [
    "# [4] Optimizer\n",
    "train_step = tf.train.AdamOptimizer(0.01).minimize(loss)\n",
    "# [optional, compute accuracy so that we can know how well we are doing while training]\n",
    "prediction = tf.argmax(tf.nn.softmax(output), 1, output_type=tf.int32)\n",
    "accuracy = tf.reduce_mean(tf.cast(tf.equal(prediction, y_), tf.float32))"
   ]
  },
  {
   "cell_type": "markdown",
   "metadata": {},
   "source": [
    "Scalar summaries (graphs)"
   ]
  },
  {
   "cell_type": "code",
   "execution_count": 8,
   "metadata": {},
   "outputs": [],
   "source": [
    "with tf.name_scope(\"summaries\"):\n",
    "    tf.summary.scalar(\"loss\", loss)\n",
    "    tf.summary.scalar(\"accuracy\", accuracy)\n",
    "    merged = tf.summary.merge_all()\n",
    "\n",
    "sess = tf.Session()\n",
    "train_writer = tf.summary.FileWriter('train', sess.graph, filename_suffix='ThreeLayerAdamZeros0.01')\n",
    "#test_writer = tf.summary.FileWriter(FLAGS.summaries_dir + '/test')"
   ]
  },
  {
   "cell_type": "markdown",
   "metadata": {},
   "source": [
    "#### Training\n",
    "Call \"train_step\" a number of time; you can call this block multiple times until it reaches a good accuracy"
   ]
  },
  {
   "cell_type": "code",
   "execution_count": 10,
   "metadata": {},
   "outputs": [
    {
     "name": "stdout",
     "output_type": "stream",
     "text": [
      "accuracy= 0.09 loss= 15.9293\n",
      "accuracy= 0.089 loss= 9.61393\n",
      "accuracy= 0.091 loss= 6.88142\n",
      "accuracy= 0.096 loss= 5.5635\n",
      "accuracy= 0.101 loss= 4.75541\n",
      "accuracy= 0.097 loss= 4.28999\n",
      "accuracy= 0.109 loss= 3.967\n",
      "accuracy= 0.107 loss= 3.90807\n",
      "accuracy= 0.106 loss= 3.75034\n",
      "accuracy= 0.115 loss= 3.69846\n",
      "accuracy= 0.119 loss= 3.70861\n",
      "accuracy= 0.125 loss= 3.71699\n",
      "accuracy= 0.131 loss= 3.59008\n",
      "accuracy= 0.113 loss= 3.61446\n",
      "accuracy= 0.115 loss= 3.63129\n",
      "accuracy= 0.117 loss= 3.69602\n",
      "accuracy= 0.107 loss= 3.66029\n",
      "accuracy= 0.121 loss= 3.54806\n",
      "accuracy= 0.117 loss= 3.61102\n",
      "accuracy= 0.131 loss= 3.5988\n",
      "accuracy= 0.126 loss= 3.59918\n",
      "accuracy= 0.117 loss= 3.56084\n",
      "accuracy= 0.132 loss= 3.52131\n",
      "accuracy= 0.131 loss= 3.51868\n",
      "accuracy= 0.103 loss= 3.59867\n",
      "accuracy= 0.111 loss= 3.63478\n",
      "accuracy= 0.132 loss= 3.57112\n",
      "accuracy= 0.126 loss= 3.52333\n",
      "accuracy= 0.126 loss= 3.57073\n",
      "accuracy= 0.133 loss= 3.55974\n",
      "accuracy= 0.124 loss= 3.57863\n",
      "accuracy= 0.115 loss= 3.50493\n",
      "accuracy= 0.128 loss= 3.60083\n",
      "accuracy= 0.111 loss= 3.60176\n",
      "accuracy= 0.144 loss= 3.56957\n",
      "accuracy= 0.143 loss= 3.51283\n",
      "accuracy= 0.109 loss= 3.58035\n",
      "accuracy= 0.125 loss= 3.53709\n",
      "accuracy= 0.128 loss= 3.52965\n",
      "accuracy= 0.115 loss= 3.53356\n"
     ]
    }
   ],
   "source": [
    "sess.run(tf.global_variables_initializer())\n",
    "\n",
    "# Randomly draw a file, for that file, randomly draw an interval of 1024 and find corresponding label\n",
    "# Training, stop when objective value (o) is small enough\n",
    "for step in range(4000):\n",
    "    batch_xs, batch_ys = data.next_train_batch(500)\n",
    "    _, summary, v_loss = sess.run([train_step, merged, loss], \n",
    "                                  feed_dict={x: batch_xs, y_: batch_ys})\n",
    "    train_writer.add_summary(summary, step)\n",
    "    if (step % 100 == 99):\n",
    "        batch_xs, batch_ys = data.next_test_batch(1000)\n",
    "        v_acc, v_loss = sess.run([accuracy, loss], feed_dict={x: batch_xs, y_: batch_ys})\n",
    "        # print the loss every 100 interations\n",
    "        print('accuracy=', v_acc, 'loss=', v_loss)"
   ]
  },
  {
   "cell_type": "code",
   "execution_count": null,
   "metadata": {
    "collapsed": true
   },
   "outputs": [],
   "source": []
  }
 ],
 "metadata": {
  "kernelspec": {
   "display_name": "Python [default]",
   "language": "python",
   "name": "python3"
  },
  "language_info": {
   "codemirror_mode": {
    "name": "ipython",
    "version": 3
   },
   "file_extension": ".py",
   "mimetype": "text/x-python",
   "name": "python",
   "nbconvert_exporter": "python",
   "pygments_lexer": "ipython3",
   "version": "3.6.3"
  }
 },
 "nbformat": 4,
 "nbformat_minor": 2
}
